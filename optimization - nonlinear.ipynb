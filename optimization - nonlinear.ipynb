{
 "cells": [
  {
   "cell_type": "code",
   "execution_count": 5,
   "metadata": {},
   "outputs": [],
   "source": [
    "import  numpy as np, matplotlib.pyplot as plt, sklearn as sk, pandas as pd"
   ]
  },
  {
   "cell_type": "markdown",
   "metadata": {},
   "source": [
    "## Portfolio Optimization##"
   ]
  },
  {
   "cell_type": "markdown",
   "metadata": {},
   "source": [
    "a)\n",
    "\n",
    "$c = \\mu,\\ H = \\rho \\sum$\n",
    "\n",
    "$max\\ \\mu x - \\rho x^T \\sum x$"
   ]
  },
  {
   "cell_type": "code",
   "execution_count": 6,
   "metadata": {},
   "outputs": [
    {
     "name": "stdout",
     "output_type": "stream",
     "text": [
      "\n",
      "Holdings\n",
      "Delta: "
     ]
    },
    {
     "ename": "NameError",
     "evalue": "name 'x' is not defined",
     "output_type": "error",
     "traceback": [
      "\u001b[0;31m---------------------------------------------------------------------------\u001b[0m",
      "\u001b[0;31mNameError\u001b[0m                                 Traceback (most recent call last)",
      "\u001b[0;32m<ipython-input-6-908a2f791960>\u001b[0m in \u001b[0;36m<module>\u001b[0;34m()\u001b[0m\n\u001b[1;32m     14\u001b[0m \u001b[0;32mprint\u001b[0m \u001b[0;34m'Holdings'\u001b[0m\u001b[0;34m\u001b[0m\u001b[0m\n\u001b[1;32m     15\u001b[0m \u001b[0;34m\u001b[0m\u001b[0m\n\u001b[0;32m---> 16\u001b[0;31m \u001b[0;32mprint\u001b[0m \u001b[0;34m'Delta: '\u001b[0m\u001b[0;34m,\u001b[0m \u001b[0mx\u001b[0m\u001b[0;34m[\u001b[0m\u001b[0;36m0\u001b[0m\u001b[0;34m]\u001b[0m\u001b[0;34m\u001b[0m\u001b[0m\n\u001b[0m\u001b[1;32m     17\u001b[0m \u001b[0;32mprint\u001b[0m \u001b[0;34m'American: '\u001b[0m\u001b[0;34m,\u001b[0m \u001b[0mx\u001b[0m\u001b[0;34m[\u001b[0m\u001b[0;36m1\u001b[0m\u001b[0;34m]\u001b[0m\u001b[0;34m\u001b[0m\u001b[0m\n\u001b[1;32m     18\u001b[0m \u001b[0;32mprint\u001b[0m \u001b[0;34m'Southwest: '\u001b[0m\u001b[0;34m,\u001b[0m \u001b[0mx\u001b[0m\u001b[0;34m[\u001b[0m\u001b[0;36m2\u001b[0m\u001b[0;34m]\u001b[0m\u001b[0;34m\u001b[0m\u001b[0m\n",
      "\u001b[0;31mNameError\u001b[0m: name 'x' is not defined"
     ]
    }
   ],
   "source": [
    "#a\n",
    "\n",
    "rho = 0.001 # risk aversion coefficient\n",
    "c = np.matrix([[0.1, 0.12, 0.05, 0.08, 0.13]]) #expected returns\n",
    "\n",
    "# we don't have any constraints, so we set A and b to zero\n",
    "A = np.zeros((1,5))\n",
    "b = np.zeros((1,1))\n",
    "\n",
    "H = np.matrix([[0.0500, 0.0350, 0.0300, 0.0250, 0.0200], \\\n",
    "               [0.0350, 0.0456, 0.0263, 0.0219, 0.0175], \\\n",
    "               [0.0300, 0.0263, 0.0275, 0.0188, 0.0150], \\\n",
    "               [0.0250, 0.0219, 0.0188, 0.0231, 0.0125], \\\n",
    "               [0.0200, 0.0175, 0.0150, 0.0125, 0.0225]])\n",
    "\n",
    "#x, obj = opt111.quadprog(A, b, c, rho*H)\n",
    "print ''\n",
    "print 'Holdings'\n",
    "\n",
    "print 'Delta: ', x[0]\n",
    "print 'American: ', x[1]\n",
    "print 'Southwest: ', x[2]\n",
    "print 'US Air: ', x[3]\n",
    "print 'United: ', x[4]"
   ]
  },
  {
   "cell_type": "code",
   "execution_count": 77,
   "metadata": {},
   "outputs": [
    {
     "name": "stdout",
     "output_type": "stream",
     "text": [
      "Expected Return:  [[ 500.1313618]]\n",
      "\n",
      "Return Variance:  [[ 250065.68090119]]\n"
     ]
    }
   ],
   "source": [
    "#b\n",
    "print 'Expected Return: ', np.matmul(c,x)\n",
    "print ''\n",
    "print 'Return Variance: ', x.T*H*x"
   ]
  },
  {
   "cell_type": "markdown",
   "metadata": {},
   "source": [
    "c)\n",
    "\n",
    "$max\\ \\mu x - \\rho x^T \\sum x$\n",
    "\n",
    "$s.t.$\n",
    "\n",
    "$x^+ \\geq 0$\n",
    "\n",
    "$x^- \\geq 0$\n",
    "\n",
    "$x^+ + x^- \\leq 2000$"
   ]
  },
  {
   "cell_type": "code",
   "execution_count": 7,
   "metadata": {},
   "outputs": [
    {
     "name": "stdout",
     "output_type": "stream",
     "text": [
      " (11, 10) (11, 1) (1, 10)\n"
     ]
    }
   ],
   "source": [
    "H_temp = np.concatenate((H,H),axis=1)\n",
    "H_constrained = np.concatenate((H_temp,H_temp),axis=0)\n",
    "ident = np.identity(10)\n",
    "ones = np.matrix(np.ones(10))\n",
    "A_constrained = np.concatenate((ones,-ident),axis=0) #negative identity matrix accounts for <= switch\n",
    "b_constrained = np.matrix([2000,0,0,0,0,0,0,0,0,0,0]).T\n",
    "c_constrained = np.matrix([[0.1, 0.12, 0.05, 0.08, 0.13, -0.1, -0.12, -0.05, -0.08, -0.13]])\n",
    "\n",
    "print A_constrained.shape, b_constrained.shape, c_constrained.shape\n",
    "#x_constrained, obj_constrained = opt111.quadprog(A_constrained, b_constrained, c_constrained, rho*H_constrained)\n",
    "#x_constrained = np.concatenate((x_constrained[:6,0],x_constrained[6:,0]*-1.0),axis=0)"
   ]
  },
  {
   "cell_type": "code",
   "execution_count": 79,
   "metadata": {},
   "outputs": [
    {
     "name": "stdout",
     "output_type": "stream",
     "text": [
      "Long Positions\n",
      "Delta:  [[ 0.00029042]]\n",
      "American:  [[ 151.05687173]]\n",
      "Southwest:  [[  9.25111005e-05]]\n",
      "US Air:  [[ 0.00047992]]\n",
      "United:  [[ 1848.94211841]]\n",
      "\n",
      "Short Positions\n",
      "Delta:  [[  2.63362975e-05]]\n",
      "American:  [[ -2.38057816e-05]]\n",
      "Southwest:  [[ -3.48931378e-05]]\n",
      "US Air:  [[ -3.11275087e-05]]\n",
      "United:  [[ -1.19726383e-05]]\n",
      "\n",
      "Expected Return:  [[ 258.48937808]]\n",
      "\n",
      "Return Variance:  [[ 87734.10612779]]\n"
     ]
    }
   ],
   "source": [
    "#c\n",
    "print 'Long Positions'\n",
    "print 'Delta: ', x_constrained[0]\n",
    "print 'American: ', x_constrained[1]\n",
    "print 'Southwest: ', x_constrained[2]\n",
    "print 'US Air: ', x_constrained[3]\n",
    "print 'United: ', x_constrained[4]\n",
    "print ''\n",
    "print 'Short Positions'\n",
    "print 'Delta: ', x_constrained[5]\n",
    "print 'American: ', x_constrained[6]\n",
    "print 'Southwest: ', x_constrained[7]\n",
    "print 'US Air: ', x_constrained[8]\n",
    "print 'United: ', x_constrained[9]\n",
    "print ''\n",
    "print 'Expected Return: ', np.matmul(c_constrained, x_constrained)\n",
    "print ''\n",
    "print 'Return Variance: ', x_constrained.T*H_constrained*x_constrained"
   ]
  },
  {
   "cell_type": "code",
   "execution_count": 23,
   "metadata": {},
   "outputs": [
    {
     "name": "stdout",
     "output_type": "stream",
     "text": [
      "[[ 0.05    0.035   0.03    0.025   0.02    0.05    0.035   0.03    0.025\n",
      "   0.02  ]\n",
      " [ 0.035   0.0456  0.0263  0.0219  0.0175  0.035   0.0456  0.0263  0.0219\n",
      "   0.0175]\n",
      " [ 0.03    0.0263  0.0275  0.0188  0.015   0.03    0.0263  0.0275  0.0188\n",
      "   0.015 ]\n",
      " [ 0.025   0.0219  0.0188  0.0231  0.0125  0.025   0.0219  0.0188  0.0231\n",
      "   0.0125]\n",
      " [ 0.02    0.0175  0.015   0.0125  0.0225  0.02    0.0175  0.015   0.0125\n",
      "   0.0225]\n",
      " [ 0.05    0.035   0.03    0.025   0.02    0.05    0.035   0.03    0.025\n",
      "   0.02  ]\n",
      " [ 0.035   0.0456  0.0263  0.0219  0.0175  0.035   0.0456  0.0263  0.0219\n",
      "   0.0175]\n",
      " [ 0.03    0.0263  0.0275  0.0188  0.015   0.03    0.0263  0.0275  0.0188\n",
      "   0.015 ]\n",
      " [ 0.025   0.0219  0.0188  0.0231  0.0125  0.025   0.0219  0.0188  0.0231\n",
      "   0.0125]\n",
      " [ 0.02    0.0175  0.015   0.0125  0.0225  0.02    0.0175  0.015   0.0125\n",
      "   0.0225]]\n",
      "[[  5.00000000e-05   3.50000000e-05   3.00000000e-05   2.50000000e-05\n",
      "    2.00000000e-05  -5.00000000e-05  -3.50000000e-05  -3.00000000e-05\n",
      "   -2.50000000e-05  -2.00000000e-05]\n",
      " [  3.50000000e-05   4.56000000e-05   2.63000000e-05   2.19000000e-05\n",
      "    1.75000000e-05  -3.50000000e-05  -4.56000000e-05  -2.63000000e-05\n",
      "   -2.19000000e-05  -1.75000000e-05]\n",
      " [  3.00000000e-05   2.63000000e-05   2.75000000e-05   1.88000000e-05\n",
      "    1.50000000e-05  -3.00000000e-05  -2.63000000e-05  -2.75000000e-05\n",
      "   -1.88000000e-05  -1.50000000e-05]\n",
      " [  2.50000000e-05   2.19000000e-05   1.88000000e-05   2.31000000e-05\n",
      "    1.25000000e-05  -2.50000000e-05  -2.19000000e-05  -1.88000000e-05\n",
      "   -2.31000000e-05  -1.25000000e-05]\n",
      " [  2.00000000e-05   1.75000000e-05   1.50000000e-05   1.25000000e-05\n",
      "    2.25000000e-05  -2.00000000e-05  -1.75000000e-05  -1.50000000e-05\n",
      "   -1.25000000e-05  -2.25000000e-05]\n",
      " [ -5.00000000e-05  -3.50000000e-05  -3.00000000e-05  -2.50000000e-05\n",
      "   -2.00000000e-05   5.00000000e-05   3.50000000e-05   3.00000000e-05\n",
      "    2.50000000e-05   2.00000000e-05]\n",
      " [ -3.50000000e-05  -4.56000000e-05  -2.63000000e-05  -2.19000000e-05\n",
      "   -1.75000000e-05   3.50000000e-05   4.56000000e-05   2.63000000e-05\n",
      "    2.19000000e-05   1.75000000e-05]\n",
      " [ -3.00000000e-05  -2.63000000e-05  -2.75000000e-05  -1.88000000e-05\n",
      "   -1.50000000e-05   3.00000000e-05   2.63000000e-05   2.75000000e-05\n",
      "    1.88000000e-05   1.50000000e-05]\n",
      " [ -2.50000000e-05  -2.19000000e-05  -1.88000000e-05  -2.31000000e-05\n",
      "   -1.25000000e-05   2.50000000e-05   2.19000000e-05   1.88000000e-05\n",
      "    2.31000000e-05   1.25000000e-05]\n",
      " [ -2.00000000e-05  -1.75000000e-05  -1.50000000e-05  -1.25000000e-05\n",
      "   -2.25000000e-05   2.00000000e-05   1.75000000e-05   1.50000000e-05\n",
      "    1.25000000e-05   2.25000000e-05]]\n"
     ]
    }
   ],
   "source": [
    "mu_bar = np.matrix([0.1,0.12,0.05,0.08,0.13])\n",
    "sigma = np.matrix([[0.050,0.035,0.030,0.025,0.020],[0.035,0.0456,0.0263,0.0219,0.0175],[0.03,0.0263,0.0275,0.0188,0.015],[0.0250,0.0219,0.0188,0.0231,0.0125],[0.02,0.0175,0.015,0.0125,0.0225]])\n",
    "F = np.concatenate((np.matlib.identity(5), -1*np.matlib.identity(5)),axis=1)\n",
    "rho = 0.001\n",
    "H = np.transpose(F)*sigma*F*rho\n",
    "c = mu_bar*F\n",
    "A1 = np.matlib.ones((1,10))\n",
    "b1 = np.matlib.ones((1,1)) * 2000\n",
    "A2 = -1*np.matlib.identity(10)\n",
    "b2 = np.matlib.zeros((10,1))\n",
    "A_test = np.concatenate((A1,A2))\n",
    "b_test = np.concatenate((b1,b2))\n",
    "\n",
    "print H_constrained\n",
    "print H"
   ]
  },
  {
   "cell_type": "markdown",
   "metadata": {},
   "source": [
    "d)\n",
    "\n",
    "we can let $R$ = return on stock and $Y$ = return on the ETF.\n",
    "\n",
    "$cov(R_i,Y)$ effectively becomes a scalar in our QP\n",
    "\n",
    "and we know that\n",
    "\n",
    "$\\sum^6_{i=1} x^+_i cov(R_i, Y) - \\sum^6_{i=1} x^-_i cov(R_i, Y) = 0$\n",
    "\n",
    "becomes the final constraint, thus:\n",
    "\n",
    "\n",
    "$max\\ \\mu x - \\rho x^T \\sum x$\n",
    "\n",
    "$s.t.$\n",
    "\n",
    "$x^+ \\geq 0$\n",
    "\n",
    "$x^- \\geq 0$\n",
    "\n",
    "$x^+ + x^- \\leq 2000$\n",
    "\n",
    "$-\\sum^6_{i=1} x^+_i cov(R_i, Y) + \\sum^6_{i=1} x^-_i cov(R_i, Y) \\leq 0$\n",
    "\n",
    "$\\sum^6_{i=1} x^+_i cov(R_i, Y) - \\sum^6_{i=1} x^-_i cov(R_i, Y) \\leq 0$"
   ]
  },
  {
   "cell_type": "code",
   "execution_count": 17,
   "metadata": {},
   "outputs": [
    {
     "name": "stdout",
     "output_type": "stream",
     "text": [
      "(12, 12) (15, 12) (15, 1) (1, 12)\n"
     ]
    }
   ],
   "source": [
    "#d\n",
    "\n",
    "H = np.matrix([[0.0500, 0.0350, 0.0300, 0.0250, 0.0200, 0.0200], \\\n",
    "               [0.0350, 0.0456, 0.0263, 0.0219, 0.0175, 0.0175], \\\n",
    "               [0.0300, 0.0263, 0.0275, 0.0188, 0.0150, 0.0150], \\\n",
    "               [0.0250, 0.0219, 0.0188, 0.0231, 0.0125, 0.0125], \\\n",
    "               [0.0200, 0.0175, 0.0150, 0.0125, 0.0225, 0.0100], \\\n",
    "               [0.0200, 0.0175, 0.0150, 0.0125, 0.0100, 0.0100]])\n",
    "H_temp = np.concatenate((H,H),axis=1)\n",
    "H_hedged = np.concatenate((H_temp,H_temp),axis=0)\n",
    "\n",
    "ident = np.identity(12)\n",
    "ones = np.matrix(np.ones(12))\n",
    "A_hedged = np.concatenate((ones,-ident),axis=0)\n",
    "\n",
    "#change = to <= and >=\n",
    "A_hedged = np.concatenate((A_hedged, np.matrix([[0.0200, 0.0175, 0.0150, 0.0125, 0.0100, 0.0100, \\\n",
    "                                               -0.0200, -0.0175, -0.0150, -0.0125, -0.0100, -0.0100]])))\n",
    "A_hedged = np.concatenate((A_hedged, np.matrix([-0.0200, -0.0175, -0.0150, -0.0125, -0.0100, -0.0100, \\\n",
    "                                               0.0200, 0.0175, 0.0150, 0.0125, 0.0100, 0.0100])))\n",
    "b_hedged = np.matrix([2000,0,0,0,0,0,0,0,0,0,0,0,0,0,0]).T\n",
    "c_hedged = np.matrix([[0.1, 0.12, 0.05, 0.08, 0.13, 0.0, -0.1, -0.12, -0.05, -0.08, -0.13, 0.0]])\n",
    "\n",
    "print H_hedged.shape, A_hedged.shape, b_hedged.shape, c_hedged.shape\n",
    "#x_hedged, obj_hedged = opt111.quadprog(A_hedged, b_hedged, c_hedged, rho*H_hedged)\n",
    "#x_hedged = np.concatenate((x_hedged[:6,0],x_hedged[6:,0]*-1.0),axis=0)"
   ]
  },
  {
   "cell_type": "code",
   "execution_count": 21,
   "metadata": {},
   "outputs": [
    {
     "name": "stdout",
     "output_type": "stream",
     "text": [
      "[[ True  True  True  True  True  True  True  True  True  True  True  True]\n",
      " [ True  True  True  True  True  True  True  True  True  True  True  True]\n",
      " [ True  True  True  True  True  True  True  True  True  True  True  True]\n",
      " [ True  True  True  True  True  True  True  True  True  True  True  True]\n",
      " [ True  True  True  True  True  True  True  True  True  True  True  True]\n",
      " [ True  True  True  True  True  True  True  True  True  True  True  True]\n",
      " [ True  True  True  True  True  True  True  True  True  True  True  True]\n",
      " [ True  True  True  True  True  True  True  True  True  True  True  True]\n",
      " [ True  True  True  True  True  True  True  True  True  True  True  True]\n",
      " [ True  True  True  True  True  True  True  True  True  True  True  True]\n",
      " [ True  True  True  True  True  True  True  True  True  True  True  True]\n",
      " [ True  True  True  True  True  True  True  True  True  True  True  True]\n",
      " [ True  True  True  True  True  True  True  True  True  True  True  True]\n",
      " [ True  True  True  True  True  True  True  True  True  True  True  True]\n",
      " [ True  True  True  True  True  True  True  True  True  True  True  True]]\n",
      "[[ True]\n",
      " [ True]\n",
      " [ True]\n",
      " [ True]\n",
      " [ True]\n",
      " [ True]\n",
      " [ True]\n",
      " [ True]\n",
      " [ True]\n",
      " [ True]\n",
      " [ True]\n",
      " [ True]\n",
      " [ True]\n",
      " [ True]\n",
      " [ True]]\n",
      "[[ True  True  True  True  True  True  True  True  True  True  True  True]]\n"
     ]
    }
   ],
   "source": [
    "mu_bar = np.matrix([0.1,0.12,0.05,0.08,0.13,0])\n",
    "sigma = np.matrix([[0.050,0.035,0.030,0.025,0.020,0.020],[0.035,0.0456,0.0263,0.0219,0.0175,0.0175],[0.03,0.0263,0.0275,0.0188,0.015,0.015],[0.0250,0.0219,0.0188,0.0231,0.0125,0.0125],[0.02,0.0175,0.015,0.0125,0.0225,0.0100],[0.0200,0.0175,0.0150,0.0125,0.0100,0.0100]])\n",
    "F = np.concatenate((np.matlib.identity(6), -1*np.matlib.identity(6)),axis=1)\n",
    "rho = 0.001\n",
    "H = np.transpose(F)*sigma*F*rho\n",
    "c = mu_bar*F\n",
    "A1 = np.matlib.ones((1,12))\n",
    "b1 = np.matlib.ones((1,1))*2000\n",
    "A2 = -1*np.matlib.identity(12)\n",
    "b2 = np.matlib.zeros((12,1))\n",
    "cc1 = [0.0200,0.0175,0.0150,0.0125,0.0100,.0100]\n",
    "A3 = cc1 * F\n",
    "b3 = np.zeros((1,1))\n",
    "A4 = (-1)*(cc1*F)\n",
    "b4 = np.zeros((1,1))\n",
    "A = np.concatenate((A1,A2,A3,A4))\n",
    "b = np.concatenate((b1,b2,b3,b4))\n",
    "\n",
    "print A_hedged==A\n",
    "print b_hedged==b\n",
    "print c_hedged==c"
   ]
  },
  {
   "cell_type": "code",
   "execution_count": 82,
   "metadata": {},
   "outputs": [
    {
     "name": "stdout",
     "output_type": "stream",
     "text": [
      "Long \n",
      "Delta:  [[  4.02014861e-06]]\n",
      "American:  [[  8.69487356e-06]]\n",
      "Southwest:  [[  3.82618283e-06]]\n",
      "US Air:  [[  8.60267579e-06]]\n",
      "United:  [[ 999.99944977]]\n",
      "Arca Airline ETF:  [[  3.73040257e-06]]\n",
      "\n",
      "Short Positions\n",
      "Delta:  [[ -6.88246401e-06]]\n",
      "American:  [[ -5.89739495e-06]]\n",
      "Southwest:  [[ -3.14707714e-05]]\n",
      "US Air:  [[ -1.18865728e-05]]\n",
      "United:  [[ -3.41915349e-06]]\n",
      "Arca Airline ETF:  [[-999.99940368]]\n",
      "\n",
      "Expected Return:  [[ 129.99993516]]\n",
      "\n",
      "Return Variance:  [[ 12499.98615872]]\n"
     ]
    }
   ],
   "source": [
    "print 'Long '\n",
    "print 'Delta: ', x_hedged[0]\n",
    "print 'American: ', x_hedged[1]\n",
    "print 'Southwest: ', x_hedged[2]\n",
    "print 'US Air: ', x_hedged[3]\n",
    "print 'United: ', x_hedged[4]\n",
    "print 'Arca Airline ETF: ', x_hedged[5]\n",
    "print ''\n",
    "print 'Short Positions'\n",
    "print 'Delta: ', x_hedged[6]\n",
    "print 'American: ', x_hedged[7]\n",
    "print 'Southwest: ', x_hedged[8]\n",
    "print 'US Air: ', x_hedged[9]\n",
    "print 'United: ', x_hedged[10]\n",
    "print 'Arca Airline ETF: ', x_hedged[11]\n",
    "print ''\n",
    "print 'Expected Return: ', np.matmul(c_hedged,x_hedged)\n",
    "print ''\n",
    "print 'Return Variance: ', x_hedged.T*H_hedged*x_hedged"
   ]
  },
  {
   "cell_type": "markdown",
   "metadata": {},
   "source": [
    "Primal:\n",
    "\n",
    "$min\\  x_1 + 0.25x_2$\n",
    "\n",
    "$s.t.$\n",
    "\n",
    "$40x_1 + 200x_2 \\geq 400$\n",
    "\n",
    "$5x_1 + 40x_2 \\geq 40$\n",
    "\n",
    "$100x_1 + 20x_2 \\geq 200$\n",
    "\n",
    "$x_1, x_2 \\geq 0$"
   ]
  },
  {
   "cell_type": "markdown",
   "metadata": {},
   "source": [
    "Dual:\n",
    "\n",
    "$max\\  400y_1 + 40y_2 + 200y_3$\n",
    "\n",
    "$s.t.$\n",
    "\n",
    "$40y_1 + 5y_2 + 100y_3 \\leq 1$\n",
    "\n",
    "$200y_1 + 40y_2 + 20y_3 \\leq 0.25$\n",
    "\n",
    "$y_1, y_2, y_3 \\geq 0$"
   ]
  },
  {
   "cell_type": "markdown",
   "metadata": {},
   "source": [
    "They're basically the same thing.\n",
    "\n",
    "The objective of the dual is profit maximization, the decision variable y represents a different type of nutrition and its 2 constraints represent nutrients in capsule form vs. nutrients in steak (1), and potatoes (0.25).\n",
    "\n",
    "The dual of the \"feeding an army\" problem's primal (minimizing cost while getting enough nutrients) represents the pharmaceutical company's need to maximize the revenue on selling nutrients such that the army's needs are satisfied in either scenario (paying for steak/potatoes or buying nutrient capsules)."
   ]
  }
 ],
 "metadata": {
  "kernelspec": {
   "display_name": "Python 3",
   "language": "python",
   "name": "python3"
  },
  "language_info": {
   "codemirror_mode": {
    "name": "ipython",
    "version": 3
   },
   "file_extension": ".py",
   "mimetype": "text/x-python",
   "name": "python",
   "nbconvert_exporter": "python",
   "pygments_lexer": "ipython3",
   "version": "3.6.8"
  }
 },
 "nbformat": 4,
 "nbformat_minor": 2
}
