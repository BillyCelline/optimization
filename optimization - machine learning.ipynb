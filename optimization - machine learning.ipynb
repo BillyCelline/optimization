{
 "cells": [
  {
   "cell_type": "code",
   "execution_count": 2,
   "metadata": {
    "collapsed": true
   },
   "outputs": [],
   "source": [
    "import logistic_opt111 as opt111, numpy as np, matplotlib.pyplot as plt, sklearn as sk, pandas as pd"
   ]
  },
  {
   "cell_type": "markdown",
   "metadata": {},
   "source": [
    "note to self\n",
    "\n",
    "Per @460, the logistic regression functions in opt111 output α first then the x's. In lecture12_separable_svm, we set up the A matrix such that the result would be given with the x's first and the α at the end."
   ]
  },
  {
   "cell_type": "markdown",
   "metadata": {},
   "source": [
    "## 1. Logistic Regression vs. Other Methods"
   ]
  },
  {
   "cell_type": "code",
   "execution_count": 404,
   "metadata": {},
   "outputs": [
    {
     "name": "stdout",
     "output_type": "stream",
     "text": [
      "0 misclassifications\n",
      "\n",
      "errors:  [[ 0.]\n",
      " [ 0.]\n",
      " [ 0.]\n",
      " [ 0.]\n",
      " [ 0.]\n",
      " [ 0.]\n",
      " [ 0.]\n",
      " [ 0.]\n",
      " [ 0.]\n",
      " [ 0.]]\n",
      "\n",
      "alpha:  -6.73908354723\n",
      "\n",
      "x:  [-14.00188012 -32.23986569]\n"
     ]
    }
   ],
   "source": [
    "#a\n",
    "\n",
    "np.random.seed(123454321)\n",
    "U = np.matrix(np.random.normal(-1.0, 1.0, (20,2)))\n",
    "V = np.matrix(np.random.normal(1.0, 1.0, (20,2)))\n",
    "U_sample = np.matrix(np.random.normal(-1.0, 1.0, (20,2)))\n",
    "V_sample = np.matrix(np.random.normal(1.0, 1.0, (20,2)))\n",
    "\n",
    "X = np.concatenate((U, V))\n",
    "Y = np.concatenate((np.zeros((U.shape[0],1)), np.ones((V.shape[0],1))))\n",
    "\n",
    "#logistic regression\n",
    "C = 2\n",
    "Y_onehot = opt111.convert_to_onehot(Y, C)\n",
    "num_iters = 10\n",
    "x, errors = opt111.logistic_regression_newtons_method(X, Y_onehot, num_iters)\n",
    "y_pred = opt111.predict(X, Y_onehot, x)\n",
    "alpha = x[0,0]\n",
    "x = x[1:,0]\n",
    "\n",
    "print np.sum(Y!=y_pred), 'misclassifications'\n",
    "print ''\n",
    "print 'errors: ', errors\n",
    "print ''\n",
    "print 'alpha: ', alpha\n",
    "print ''\n",
    "print 'x: ', x"
   ]
  },
  {
   "cell_type": "code",
   "execution_count": 405,
   "metadata": {},
   "outputs": [
    {
     "name": "stdout",
     "output_type": "stream",
     "text": [
      "     pcost       dcost       gap    pres   dres\n",
      " 0:  2.2602e-01  2.3779e+01  1e+02  2e+00  1e+02\n",
      " 1:  1.5049e+00 -7.2416e+00  5e+01  9e-01  4e+01\n",
      " 2:  3.4507e+00  7.5690e+01  5e+01  8e-01  4e+01\n",
      " 3:  3.2307e+01 -1.3273e+02  2e+02  5e-01  3e+01\n",
      " 4:  3.1830e+01 -7.4965e+01  1e+02  3e-01  2e+01\n",
      " 5:  7.8296e+01  1.0527e+01  1e+02  2e-01  1e+01\n",
      " 6:  6.6701e+01  6.2123e+01  5e+00  3e-15  1e-13\n",
      " 7:  6.4273e+01  6.4208e+01  6e-02  3e-15  2e-13\n",
      " 8:  6.4243e+01  6.4242e+01  6e-04  3e-15  1e-12\n",
      " 9:  6.4242e+01  6.4242e+01  6e-06  3e-15  6e-13\n",
      "Optimal solution found.\n",
      "optimal\n",
      "(40, 3) (40, 1) (1, 3) (3, 3)\n",
      "alpha:  -1.46416397762\n",
      "\n",
      "x:  [[-3.08354985]\n",
      " [-7.39824019]]\n"
     ]
    }
   ],
   "source": [
    "#svm\n",
    "ones = np.matrix(np.ones((20,1)))\n",
    "A = np.concatenate((np.concatenate((-U, ones), axis=1), np.concatenate((V, -ones), axis=1)))\n",
    "b = np.concatenate((-ones, -ones))\n",
    "c = np.matrix([0.0,0.0,0.0])\n",
    "H = np.array([[1,0,0],[0,1,0],[0,0,0]])\n",
    "x2, obj2 = opt111.quadprog(A, b, c, H)\n",
    "alpha2 = x2[-1,0]\n",
    "x2 = x2[:-1,0]\n",
    "\n",
    "print A.shape, b.shape, c.shape, H.shape\n",
    "print 'alpha: ', alpha2\n",
    "print ''\n",
    "print 'x: ', x2"
   ]
  },
  {
   "cell_type": "code",
   "execution_count": 406,
   "metadata": {},
   "outputs": [
    {
     "data": {
      "image/png": "[encoded data removed]",
      "text/plain": [
       "<matplotlib.figure.Figure at 0x11828b910>"
      ]
     },
     "metadata": {},
     "output_type": "display_data"
    }
   ],
   "source": [
    "#chart\n",
    "minval = np.min(U[:,0])\n",
    "maxval = np.max(V[:,0])\n",
    "\n",
    "line1 = np.matrix([[minval, (alpha-minval*x[0])/x[1]], [maxval, (alpha-maxval*x[0])/x[1]]])\n",
    "line2 = np.matrix([[minval, (alpha2-minval*x2[0])/x2[1]], [maxval, (alpha2-maxval*x2[0])/x2[1]]])\n",
    "\n",
    "plt.plot(line1[:,0], line1[:,1], color='green')\n",
    "plt.plot(line2[:,0], line2[:,1], color='orange')\n",
    "plt.scatter([U[:,0]], [U[:,1]], color='blue', marker='.', linewidth=0.01)\n",
    "plt.scatter([V[:,0]], [V[:,1]], color='red', marker='.', linewidth=0.01)\n",
    "plt.legend(('Logistic', 'SVM'))\n",
    "plt.show()"
   ]
  },
  {
   "cell_type": "code",
   "execution_count": 407,
   "metadata": {},
   "outputs": [
    {
     "name": "stdout",
     "output_type": "stream",
     "text": [
      "(100, 2) (2,)\n",
      "\n",
      "logistic regression test data\n",
      "false positive rate:  5.0\n",
      "false negative rate:  11.0\n",
      "total misclassification:  8.0\n",
      "\n",
      "SVM test data\n",
      "false positive rate:  5.0\n",
      "false negative rate:  11.0\n",
      "total misclassification:  8.0\n"
     ]
    },
    {
     "name": "stderr",
     "output_type": "stream",
     "text": [
      "/anaconda/envs/py27/lib/python2.7/site-packages/ipykernel_launcher.py:15: VisibleDeprecationWarning: boolean index did not match indexed array along dimension 1; dimension is 2 but corresponding boolean dimension is 1\n",
      "  from ipykernel import kernelapp as app\n",
      "/anaconda/envs/py27/lib/python2.7/site-packages/ipykernel_launcher.py:16: VisibleDeprecationWarning: boolean index did not match indexed array along dimension 1; dimension is 2 but corresponding boolean dimension is 1\n",
      "  app.launch_new_instance()\n",
      "/anaconda/envs/py27/lib/python2.7/site-packages/ipykernel_launcher.py:17: VisibleDeprecationWarning: boolean index did not match indexed array along dimension 1; dimension is 2 but corresponding boolean dimension is 1\n",
      "/anaconda/envs/py27/lib/python2.7/site-packages/ipykernel_launcher.py:18: VisibleDeprecationWarning: boolean index did not match indexed array along dimension 1; dimension is 2 but corresponding boolean dimension is 1\n",
      "/anaconda/envs/py27/lib/python2.7/site-packages/ipykernel_launcher.py:20: VisibleDeprecationWarning: boolean index did not match indexed array along dimension 1; dimension is 2 but corresponding boolean dimension is 1\n",
      "/anaconda/envs/py27/lib/python2.7/site-packages/ipykernel_launcher.py:21: VisibleDeprecationWarning: boolean index did not match indexed array along dimension 1; dimension is 2 but corresponding boolean dimension is 1\n",
      "/anaconda/envs/py27/lib/python2.7/site-packages/ipykernel_launcher.py:22: VisibleDeprecationWarning: boolean index did not match indexed array along dimension 1; dimension is 2 but corresponding boolean dimension is 1\n",
      "/anaconda/envs/py27/lib/python2.7/site-packages/ipykernel_launcher.py:23: VisibleDeprecationWarning: boolean index did not match indexed array along dimension 1; dimension is 2 but corresponding boolean dimension is 1\n"
     ]
    }
   ],
   "source": [
    "#b\n",
    "\n",
    "np.random.seed(1) # (this is for reproducibility of the results)\n",
    "U_test = np.matrix(np.random.normal(-1.0, 1.0, (100,2)))\n",
    "V_test = np.matrix(np.random.normal(1.0, 1.0, (100,2)))\n",
    "U_test_sample = np.random.normal(-1.0, 1.0, (100,2))\n",
    "V_test_sample = np.random.normal(1.0, 1.0, (100,2))\n",
    "\n",
    "logit_positives = np.matmul(U_test,x.T)\n",
    "logit_negatives = np.matmul(V_test,x.T)\n",
    "svm_positives = np.matmul(U_test,x2)\n",
    "svm_negatives = np.matmul(V_test,x2)\n",
    "\n",
    "print U_test.shape, x.T.shape\n",
    "logit_legit_positives = U_test_sample[logit_positives.T > alpha]\n",
    "logit_false_positives = U_test_sample[logit_positives.T <= alpha]\n",
    "logit_legit_negatives = V_test_sample[logit_negatives.T <= alpha]\n",
    "logit_false_negatives = V_test_sample[logit_negatives.T > alpha]\n",
    "\n",
    "svm_legit_positives = U_test_sample[svm_positives > alpha2]\n",
    "svm_false_positives = U_test_sample[svm_positives <= alpha2]\n",
    "svm_legit_negatives = V_test_sample[svm_negatives <= alpha2]\n",
    "svm_false_negatives = V_test_sample[svm_negatives > alpha2]\n",
    "\n",
    "\n",
    "print ''\n",
    "print 'logistic regression test data'\n",
    "print 'false positive rate: ' , float((logit_false_positives.shape[0]*1.0 / (logit_false_positives.shape[0]*1.0 + logit_legit_positives.shape[0]*1.0)) * 100)\n",
    "print 'false negative rate: ', float((logit_false_negatives.shape[0]*1.0 / (logit_false_negatives.shape[0]*1.0 + logit_legit_negatives.shape[0]*1.0)) * 100)\n",
    "print 'total misclassification: ', float((logit_false_positives.shape[0]*1.0 + logit_false_negatives.shape[0]*1.0) / \\\n",
    "                                         ((logit_legit_positives.shape[0]*1.0 + logit_legit_negatives.shape[0]*1.0) + \\\n",
    "                                         (logit_false_positives.shape[0]*1.0 + logit_false_negatives.shape[0]*1.0))) * 100\n",
    "\n",
    "\n",
    "print ''\n",
    "print 'SVM test data'\n",
    "print 'false positive rate: ' , float((svm_false_positives.shape[0]*1.0 / (svm_false_positives.shape[0]*1.0 + svm_legit_positives.shape[0]*1.0)) * 100)\n",
    "print 'false negative rate: ', float((svm_false_negatives.shape[0]*1.0 / (svm_false_negatives.shape[0]*1.0 + svm_legit_negatives.shape[0]*1.0)) * 100)\n",
    "print 'total misclassification: ', float((svm_false_positives.shape[0]*1.0 + svm_false_negatives.shape[0]*1.0) / \\\n",
    "                                         ((svm_legit_positives.shape[0]*1.0 + svm_legit_negatives.shape[0]*1.0) + \\\n",
    "                                         (svm_false_positives.shape[0]*1.0 + svm_false_negatives.shape[0]*1.0))) * 100"
   ]
  },
  {
   "cell_type": "markdown",
   "metadata": {},
   "source": [
    "c)\n",
    "\n",
    "both the logistic regression and the SVM produce the same misclassification rates. if we look at the below chart, we can see that the hyperplanes are practically on top of eachother, indicating similar misclassification rates."
   ]
  },
  {
   "cell_type": "code",
   "execution_count": 408,
   "metadata": {},
   "outputs": [
    {
     "data": {
      "image/png": "[encoded data removed]",
      "text/plain": [
       "<matplotlib.figure.Figure at 0x1182b65d0>"
      ]
     },
     "metadata": {},
     "output_type": "display_data"
    }
   ],
   "source": [
    "#chart\n",
    "minval = np.min(U_test[:,0])\n",
    "maxval = np.max(V_test[:,0])\n",
    "\n",
    "line1 = np.matrix([[minval, (alpha-minval*x[0])/x[1]], [maxval, (alpha-maxval*x[0])/x[1]]])\n",
    "line2 = np.matrix([[minval, (alpha2-minval*x2[0])/x2[1]], [maxval, (alpha2-maxval*x2[0])/x2[1]]])\n",
    "\n",
    "plt.plot(line1[:,0], line1[:,1], color='green')\n",
    "plt.plot(line2[:,0], line2[:,1], color='orange')\n",
    "plt.scatter([U_test[:,0]], [U_test[:,1]], color='blue', marker='.', linewidth=0.01)\n",
    "plt.scatter([V_test[:,0]], [V_test[:,1]], color='red', marker='.', linewidth=0.01)\n",
    "plt.legend(('Logistic', 'SVM'))\n",
    "plt.show()"
   ]
  },
  {
   "cell_type": "code",
   "execution_count": 409,
   "metadata": {},
   "outputs": [
    {
     "name": "stdout",
     "output_type": "stream",
     "text": [
      "(80, 43) (80, 1) (1, 43)\n",
      "(1, 43)\n",
      "Optimization terminated successfully.\n",
      "alpha:  0.266575902495\n"
     ]
    }
   ],
   "source": [
    "#d\n",
    "np.random.seed(3576759)\n",
    "U = np.matrix(np.random.normal(-1.0, 1.0, (20,2)))\n",
    "V = np.matrix(np.random.normal(1.0, 1.0, (20,2)))\n",
    "u_ones = np.matrix(np.ones((U.shape[0],1)))\n",
    "v_ones = np.matrix(np.ones((V.shape[0],1)))\n",
    "A = np.concatenate((np.concatenate((-U, u_ones), axis=1), np.concatenate((V, -v_ones), axis=1)))\n",
    "b = np.concatenate((-u_ones, -v_ones))\n",
    "c = np.matrix(np.zeros((1,A.shape[1])))\n",
    "\n",
    "A = np.concatenate((A, np.zeros((A.shape))))\n",
    "temp = np.concatenate((np.concatenate((-np.identity(U.shape[0]), np.zeros((U.shape[0],V.shape[0]))), axis=1), \n",
    "                       np.concatenate((np.zeros((V.shape[0],U.shape[0])), -np.identity(V.shape[0])), axis=1)))\n",
    "temp = np.concatenate((temp,temp))\n",
    "\n",
    "A = np.concatenate((A, temp), axis=1)\n",
    "b = np.concatenate((b, np.zeros((U.shape[0] + V.shape[0],1))))\n",
    "c = np.concatenate((c, -np.ones((1,U.shape[0] + V.shape[0]))), axis=1)\n",
    "\n",
    "print A.shape, b.shape, c.shape\n",
    "x2, obj = opt111.linprog(A, b, c, A_eq=np.zeros((c.shape)), b_eq=np.zeros((1,1)), lb=None, ub=None, form='general')\n",
    "alpha2 = x2[2,0]\n",
    "x2 = x2[0:2,0]\n",
    "print 'alpha: ', alpha2"
   ]
  },
  {
   "cell_type": "code",
   "execution_count": 12,
   "metadata": {},
   "outputs": [
    {
     "name": "stdout",
     "output_type": "stream",
     "text": [
      "(100, 2) (2, 1)\n",
      "\n",
      "linear program test data\n",
      "false positive rate:  11.0\n",
      "false negative rate:  5.0\n",
      "total misclassification:  8.0\n"
     ]
    },
    {
     "name": "stderr",
     "output_type": "stream",
     "text": [
      "/anaconda/envs/py27/lib/python2.7/site-packages/ipykernel_launcher.py:5: VisibleDeprecationWarning: boolean index did not match indexed array along dimension 1; dimension is 2 but corresponding boolean dimension is 1\n",
      "  \"\"\"\n",
      "/anaconda/envs/py27/lib/python2.7/site-packages/ipykernel_launcher.py:6: VisibleDeprecationWarning: boolean index did not match indexed array along dimension 1; dimension is 2 but corresponding boolean dimension is 1\n",
      "  \n",
      "/anaconda/envs/py27/lib/python2.7/site-packages/ipykernel_launcher.py:7: VisibleDeprecationWarning: boolean index did not match indexed array along dimension 1; dimension is 2 but corresponding boolean dimension is 1\n",
      "  import sys\n",
      "/anaconda/envs/py27/lib/python2.7/site-packages/ipykernel_launcher.py:8: VisibleDeprecationWarning: boolean index did not match indexed array along dimension 1; dimension is 2 but corresponding boolean dimension is 1\n",
      "  \n"
     ]
    }
   ],
   "source": [
    "print U_test.shape, x2.shape\n",
    "lp_positives = np.matmul(U_test,x2)\n",
    "lp_negatives = np.matmul(V_test,x2)\n",
    "\n",
    "lp_legit_positives = U_test_sample[lp_positives > alpha2]\n",
    "lp_false_positives = U_test_sample[lp_positives <= alpha2]\n",
    "lp_legit_negatives = V_test_sample[lp_negatives <= alpha2]\n",
    "lp_false_negatives = V_test_sample[lp_negatives > alpha2]\n",
    "\n",
    "print ''\n",
    "print 'linear program test data'\n",
    "print 'false positive rate: ' , float((lp_false_positives.shape[0]*1.0 / (lp_false_positives.shape[0]*1.0 + lp_legit_positives.shape[0]*1.0)) * 100)\n",
    "print 'false negative rate: ', float((lp_false_negatives.shape[0]*1.0 / (lp_false_negatives.shape[0]*1.0 + lp_legit_negatives.shape[0]*1.0)) * 100)\n",
    "print 'total misclassification: ', float((lp_false_positives.shape[0]*1.0 + lp_false_negatives.shape[0]*1.0) / \\\n",
    "                                         ((lp_legit_positives.shape[0]*1.0 + lp_legit_negatives.shape[0]*1.0) + \\\n",
    "                                         (lp_false_positives.shape[0]*1.0 + lp_false_negatives.shape[0]*1.0))) * 100\n"
   ]
  },
  {
   "cell_type": "markdown",
   "metadata": {},
   "source": [
    "d)\n",
    "\n",
    "they all have the same misclassification rate.\n",
    "\n",
    "the only difference is that the linear program has a lower false positive rate and a higher false negative rate than the logistic regression and the SVM.\n",
    "\n",
    "see below chart:"
   ]
  },
  {
   "cell_type": "code",
   "execution_count": 410,
   "metadata": {},
   "outputs": [
    {
     "data": {
      "image/png": "[encoded data removed]",
      "text/plain": [
       "<matplotlib.figure.Figure at 0x117cdfcd0>"
      ]
     },
     "metadata": {},
     "output_type": "display_data"
    }
   ],
   "source": [
    "#chart\n",
    "minval = np.min(U_test[:,0])\n",
    "maxval = np.max(V_test[:,0])\n",
    "\n",
    "line1 = np.matrix([[minval, (alpha-minval*x[0])/x[1]], [maxval, (alpha-maxval*x[0])/x[1]]])\n",
    "line2 = np.matrix([[minval, (alpha2-minval*x2[0])/x2[1]], [maxval, (alpha2-maxval*x2[0])/x2[1]]])\n",
    "\n",
    "plt.plot(line1[:,0], line1[:,1], color='green')\n",
    "plt.plot(line2[:,0], line2[:,1], color='orange')\n",
    "plt.scatter([U_test[:,0]], [U_test[:,1]], color='blue', marker='.', linewidth=0.01)\n",
    "plt.scatter([V_test[:,0]], [V_test[:,1]], color='red', marker='.', linewidth=0.01)\n",
    "plt.legend(('Logistic', 'Linear Program'))\n",
    "plt.show()"
   ]
  },
  {
   "cell_type": "markdown",
   "metadata": {},
   "source": [
    "## 2. Spam Filtering"
   ]
  },
  {
   "cell_type": "code",
   "execution_count": 204,
   "metadata": {
    "collapsed": true
   },
   "outputs": [],
   "source": [
    "#a\n",
    "\n",
    "data = np.matrix(np.loadtxt('spambase.data', delimiter=\",\"))\n",
    "Y = np.array(data[:,57])\n",
    "U = np.matrix(data[np.array(data[:,57] == 1)[:,0]])[:,:57]\n",
    "V = np.matrix(data[np.array(data[:,57] == 0)[:,0]])[:,:57]\n",
    "U_sample = data[np.array(data[:,57] == 1)[:,0]][:,:57]\n",
    "V_sample = data[np.array(data[:,57] == 0)[:,0]][:,:57]\n",
    "\n",
    "X = opt111.normalize_data(data[:,:57])[0]\n",
    "C = 2\n",
    "Y_onehot = opt111.convert_to_onehot(Y, C)\n",
    "num_iters = 10\n",
    "\n",
    "x, errors = opt111.logistic_regression_newtons_method(X, Y_onehot, num_iters)\n",
    "y_pred = opt111.predict(X, Y_onehot, x)"
   ]
  },
  {
   "cell_type": "code",
   "execution_count": 205,
   "metadata": {
    "scrolled": true
   },
   "outputs": [
    {
     "name": "stdout",
     "output_type": "stream",
     "text": [
      "316 misclassifications\n",
      "false positives:  121\n",
      "false negatives:  195\n"
     ]
    }
   ],
   "source": [
    "print np.sum(Y!=y_pred), 'misclassifications'\n",
    "test = Y[Y!=y_pred]\n",
    "false_positives = test[test == 0]\n",
    "false_negatives = test[test == 1]\n",
    "print 'false positives: ', len(false_positives)\n",
    "print 'false negatives: ', len(false_negatives)"
   ]
  },
  {
   "cell_type": "code",
   "execution_count": 206,
   "metadata": {},
   "outputs": [
    {
     "name": "stdout",
     "output_type": "stream",
     "text": [
      "1764 misclassifications\n",
      "false positives:  114\n",
      "false negatives:  1650\n"
     ]
    }
   ],
   "source": [
    "#b\n",
    "U = np.matrix(data[np.array(data[:,57] == 1)[:,0]])[:,:2]\n",
    "V = np.matrix(data[np.array(data[:,57] == 0)[:,0]])[:,:2]\n",
    "X = opt111.normalize_data(data[:,:2])[0]\n",
    "num_iters = 10\n",
    "\n",
    "x, errors = opt111.logistic_regression_newtons_method(X, Y_onehot, num_iters)\n",
    "y_pred = opt111.predict(X, Y_onehot, x)\n",
    "alpha = x[0,0]\n",
    "x = x[1:,0]\n",
    "print np.sum(Y!=y_pred), 'misclassifications'\n",
    "test = Y[Y!=y_pred]\n",
    "false_positives = test[test == 0]\n",
    "false_negatives = test[test == 1]\n",
    "print 'false positives: ', len(false_positives)\n",
    "print 'false negatives: ', len(false_negatives)"
   ]
  },
  {
   "cell_type": "code",
   "execution_count": 207,
   "metadata": {},
   "outputs": [
    {
     "data": {
      "image/png": "[encoded data removed]",
      "text/plain": [
       "<matplotlib.figure.Figure at 0x1141a9790>"
      ]
     },
     "metadata": {},
     "output_type": "display_data"
    }
   ],
   "source": [
    "plt.scatter([U[:,0]], [U[:,1]], color='blue', marker='.')\n",
    "plt.scatter([V[:,0]], [V[:,1]], color='red', marker='+')\n",
    "plt.xlim(-2,4)\n",
    "plt.ylim(-4,5)\n",
    "plt.show()"
   ]
  },
  {
   "cell_type": "code",
   "execution_count": 208,
   "metadata": {},
   "outputs": [
    {
     "name": "stdout",
     "output_type": "stream",
     "text": [
      "1198 misclassifications\n",
      "false positives:  204\n",
      "false negatives:  994\n",
      "alpha:  -0.282301442028\n"
     ]
    }
   ],
   "source": [
    "#c\n",
    "U = np.matrix(data[np.array(data[:,57] == 1)[:,0]])[:,15:17]\n",
    "V = np.matrix(data[np.array(data[:,57] == 0)[:,0]])[:,15:17]\n",
    "X = opt111.normalize_data(data[:,15:17])[0]\n",
    "num_iters = 10\n",
    "\n",
    "x, errors = opt111.logistic_regression_newtons_method(X, Y_onehot, num_iters)\n",
    "y_pred = opt111.predict(X, Y_onehot, x)\n",
    "alpha = x[0,0]\n",
    "x = x[1:,0]\n",
    "print np.sum(Y!=y_pred), 'misclassifications'\n",
    "test = Y[Y!=y_pred]\n",
    "false_positives = test[test == 0]\n",
    "false_negatives = test[test == 1]\n",
    "print 'false positives: ', len(false_positives)\n",
    "print 'false negatives: ', len(false_negatives)\n",
    "print 'alpha: ', alpha"
   ]
  },
  {
   "cell_type": "code",
   "execution_count": 209,
   "metadata": {},
   "outputs": [
    {
     "data": {
      "image/png": "[encoded data removed]",
      "text/plain": [
       "<matplotlib.figure.Figure at 0x10fa36e10>"
      ]
     },
     "metadata": {},
     "output_type": "display_data"
    }
   ],
   "source": [
    "plt.scatter([U[:,0]], [U[:,1]], color='blue', marker='.')\n",
    "plt.scatter([V[:,0]], [V[:,1]], color='red', marker='+')\n",
    "plt.xlim(-2,4)\n",
    "plt.ylim(-4,5)\n",
    "plt.show()"
   ]
  },
  {
   "cell_type": "markdown",
   "metadata": {},
   "source": [
    "d)\n",
    "\n",
    "When we compare the plots of make/address vs. free/business, it becomes apparent that free/business datapoints are more linearly separable than make/address. We can also think of the free/business datapoints as spam intuitively by rationalizing emails containing the word \"free\" as likely being some nonsensical offer for free stuff, and business could be an email like \"grow your business 10x using this\", etc."
   ]
  },
  {
   "cell_type": "markdown",
   "metadata": {},
   "source": [
    "e)\n",
    "\n",
    "$min \\sum_{m=1}^{M} \\delta_{m}^{+} + \\sum_{k=1}^{K} \\delta_{k}^{-}$\n",
    "\n",
    "\n",
    "$-x^T u^m + \\alpha + 1 \\leq \\delta_{m}^{+}\\ \\  \\forall m \\in 1....M$\n",
    "\n",
    "\n",
    "$\\delta_{m}^{+} \\geq 0, \\ \\ \\forall m \\in 1....M$\n",
    "\n",
    "\n",
    "$x^T v^k - \\alpha + 1 \\leq \\delta_{k}^{-}\\ \\ \\forall k \\in 1....K$\n",
    "\n",
    "\n",
    "$\\delta_{k}^{-} \\geq 0, \\ \\ \\forall k \\in 1....K$"
   ]
  },
  {
   "cell_type": "code",
   "execution_count": 210,
   "metadata": {},
   "outputs": [
    {
     "name": "stdout",
     "output_type": "stream",
     "text": [
      "(4601, 3) (4601, 1)\n",
      "(9202, 4604) (9202, 1) (1, 4604)\n",
      "(1, 4604)\n",
      "     pcost       dcost       gap    pres   dres   k/t\n",
      " 0:  1.9088e+03  1.6950e+04  1e+05  6e+00  9e+01  1e+00\n",
      " 1:  1.9678e+03  1.5815e+04  1e+05  6e+00  9e+01  4e+00\n",
      " 2:  2.2083e+03  1.6149e+04  1e+05  6e+00  9e+01  9e+00\n",
      " 3:  2.8257e+03  9.7053e+03  4e+04  3e+00  4e+01  3e+01\n",
      " 4:  2.7830e+03  4.7116e+03  6e+03  8e-01  1e+01  4e+01\n",
      " 5:  2.6468e+03  3.3456e+03  2e+03  3e-01  4e+00  2e+01\n",
      " 6:  2.6036e+03  2.8993e+03  7e+02  1e-01  2e+00  8e+00\n",
      " 7:  2.5877e+03  2.7323e+03  3e+02  6e-02  9e-01  4e+00\n",
      " 8:  2.5802e+03  2.6613e+03  2e+02  3e-02  5e-01  2e+00\n",
      " 9:  2.5696e+03  2.5827e+03  3e+01  5e-03  8e-02  2e-01\n",
      "10:  2.5676e+03  2.5697e+03  4e+00  8e-04  1e-02  3e-02\n",
      "11:  2.5671e+03  2.5672e+03  1e-01  3e-05  4e-04  8e-04\n",
      "12:  2.5671e+03  2.5671e+03  1e-03  3e-07  4e-06  8e-06\n",
      "13:  2.5671e+03  2.5671e+03  1e-05  3e-09  4e-08  8e-08\n",
      "Optimal solution found.\n"
     ]
    }
   ],
   "source": [
    "#e\n",
    "U = np.matrix(data[np.array(data[:,57] == 1)[:,0]])[:,15:17]\n",
    "V = np.matrix(data[np.array(data[:,57] == 0)[:,0]])[:,15:17]\n",
    "U_ones = np.matrix(np.ones(U.shape[0])).T\n",
    "V_ones = np.matrix(np.ones(V.shape[0])).T\n",
    "\n",
    "N = U.shape[1]\n",
    "\n",
    "A = np.concatenate((np.concatenate((-U, U_ones), axis=1), np.concatenate((V, -V_ones), axis=1)))\n",
    "b = np.concatenate((-U_ones,-V_ones))\n",
    "print A.shape, b.shape\n",
    "c = np.matrix(np.zeros(A.shape[1]))\n",
    "\n",
    "A = np.concatenate((A, np.zeros((A.shape))))\n",
    "temp = np.concatenate((np.concatenate((-np.identity(U.shape[0]), np.zeros((U.shape[0],V.shape[0]))), axis=1), \n",
    "                       np.concatenate((np.zeros((V.shape[0],U.shape[0])), -np.identity(V.shape[0])), axis=1)))\n",
    "temp = np.concatenate((temp,temp))\n",
    "\n",
    "A = np.concatenate((A, temp), axis=1)\n",
    "b = np.concatenate((b, np.zeros((U.shape[0] + V.shape[0],1))))\n",
    "c = np.concatenate((c, -np.ones((1,U.shape[0] + V.shape[0]))), axis=1)\n",
    "\n",
    "print A.shape, b.shape, c.shape\n",
    "x2, obj2 = opt111.linprog(A, b, c, A_eq=None, b_eq=None, lb=None, ub=None, form='general', solver='cvxopt')"
   ]
  },
  {
   "cell_type": "code",
   "execution_count": 211,
   "metadata": {},
   "outputs": [
    {
     "name": "stdout",
     "output_type": "stream",
     "text": [
      "alpha:  0.189856192337\n",
      "x:  [ 1.70247827  0.92501473]\n"
     ]
    }
   ],
   "source": [
    "#e\n",
    "alpha2 = x2[N,0]\n",
    "x2 = x2[:N,0]\n",
    "print 'alpha: ', alpha2\n",
    "print 'x: ', x2"
   ]
  },
  {
   "cell_type": "code",
   "execution_count": 212,
   "metadata": {},
   "outputs": [
    {
     "data": {
      "image/png": "[encoded data removed]",
      "text/plain": [
       "<matplotlib.figure.Figure at 0x112f176d0>"
      ]
     },
     "metadata": {},
     "output_type": "display_data"
    }
   ],
   "source": [
    "#f\n",
    "#chart\n",
    "minval = -4\n",
    "maxval = 4\n",
    "\n",
    "line1 = np.matrix([[minval, (alpha-minval*x[0])/x[1]], [maxval, (alpha-maxval*x[0])/x[1]]])\n",
    "line2 = np.matrix([[minval, (alpha2-minval*x2[0])/x2[1]], [maxval, (alpha2-maxval*x2[0])/x2[1]]])\n",
    "\n",
    "plt.plot(line1[:,0], line1[:,1], color='green')\n",
    "plt.plot(line2[:,0], line2[:,1], color='orange')\n",
    "plt.scatter([U[:,0]], [U[:,1]], color='blue', marker='.')\n",
    "plt.scatter([V[:,0]], [V[:,1]], color='red', marker='+')\n",
    "plt.legend(('Logistic', 'Linear Program','Non-Spam','Spam'))\n",
    "plt.xlim(-2,4)\n",
    "plt.ylim(-4,5)\n",
    "plt.show()"
   ]
  },
  {
   "cell_type": "markdown",
   "metadata": {},
   "source": [
    "g)\n",
    "\n",
    "The decision boundaries are both linear, but I can't see any discernable difference in the effectiveness of the logistic regression vs. the linear program given that the data is just somewhat linearly separable, if at all.\n",
    "\n",
    "One thing that I'll note is that the linear program seems to be more effective in determining a bound on the triangular cluster of non-spam in the corner, which indicates that it might actually be a better determinant of spam emails that contain lower percentages of free & business word use."
   ]
  },
  {
   "cell_type": "markdown",
   "metadata": {},
   "source": [
    "## 3. Iris Dataset"
   ]
  },
  {
   "cell_type": "code",
   "execution_count": 104,
   "metadata": {
    "collapsed": true
   },
   "outputs": [],
   "source": [
    "from sklearn import datasets\n",
    "iris = datasets.load_iris()\n",
    "X = iris.data\n",
    "Y = np.reshape(iris.target, (X.shape[0],1))\n",
    "X_orig = opt111.normalize_data(X)[0]\n",
    "C = 3\n",
    "Y_onehot = opt111.convert_to_onehot(Y, C)\n",
    "num_iters = 50\n",
    "learning_rate = 0.5"
   ]
  },
  {
   "cell_type": "code",
   "execution_count": 105,
   "metadata": {},
   "outputs": [
    {
     "data": {
      "image/png": "[encoded data removed]",
      "text/plain": [
       "<matplotlib.figure.Figure at 0x10fa70650>"
      ]
     },
     "metadata": {},
     "output_type": "display_data"
    }
   ],
   "source": [
    "#a)\n",
    "%matplotlib inline\n",
    "x, errors = opt111.logistic_regression_gradient_descent(X_orig, Y_onehot, num_iters, learning_rate)\n",
    "plt.plot(errors,color='blue')\n",
    "y_pred = opt111.predict(X, Y_onehot, x)"
   ]
  },
  {
   "cell_type": "code",
   "execution_count": 106,
   "metadata": {},
   "outputs": [
    {
     "data": {
      "image/png": "[encoded data removed]",
      "text/plain": [
       "<matplotlib.figure.Figure at 0x10fa42190>"
      ]
     },
     "metadata": {},
     "output_type": "display_data"
    }
   ],
   "source": [
    "#b\n",
    "%matplotlib inline\n",
    "x2, errors2 = opt111.logistic_regression_newtons_method(X_orig, Y_onehot, num_iters)\n",
    "plt.plot(errors2,color='purple')\n",
    "y_pred2 = opt111.predict(X, Y_onehot, x2)"
   ]
  },
  {
   "cell_type": "markdown",
   "metadata": {},
   "source": [
    "c)\n",
    "\n",
    "Newton's method converges much faster (less than 10 iterations) than gradient descent (almost 50 iterations) in this case, as it takes the hessian (2nd deriv; accounts for velocity), and takes appropriate steps in that size; thus, it's almost a direct shot to solve for the local minima.\n",
    "\n",
    "Gradient descent's error convergence is dependent on our step size (learning rate), and actually oscillates for a bit before finally converging, which indicates that we could be close to a minimum, in which case the descent zig zags until it finally hits the bottom (as seen in the chart)."
   ]
  },
  {
   "cell_type": "code",
   "execution_count": 107,
   "metadata": {},
   "outputs": [
    {
     "name": "stdout",
     "output_type": "stream",
     "text": [
      "100.0  percent chance of being Setosa\n",
      "\n",
      "3.85147821176e-20  percent chance of being Versicolour\n",
      "\n",
      "0.0  percent chance of being Virginica\n"
     ]
    }
   ],
   "source": [
    "#d\n",
    "\n",
    "iris = datasets.load_iris()\n",
    "X = iris.data\n",
    "Y = np.reshape(iris.target, (X.shape[0],1))\n",
    "_,X_test = opt111.normalize_data(X, X_test=np.matrix(\"5.5, 3.7, 1.4, 0.3\"))\n",
    "C = 3\n",
    "\n",
    "J, N = X_test.shape\n",
    "beta_matrix = np.reshape(x2, ((C-1), (N+1)))\n",
    "X_tmp = np.concatenate((-np.ones((J, 1)), X_test), axis=1)\n",
    "\n",
    "P_matrix = np.zeros(((C-1), J))\n",
    "beta_matrix_conc = np.concatenate((np.zeros((1,N+1)),beta_matrix), axis=0)\n",
    "exponent = np.sum(np.multiply(beta_matrix_conc, X_tmp[0,:]), axis=1)\n",
    "a = np.amax(exponent)\n",
    "denominator_log = a + np.log(np.sum(np.exp(exponent-a), axis=0))\n",
    "numerator_log = np.sum(np.multiply(beta_matrix, X_tmp[0,:]), axis=1)\n",
    "tmp_log = numerator_log - denominator_log\n",
    "P_matrix = np.exp(tmp_log)\n",
    "\n",
    "probs = P_matrix.T\n",
    "last_clmn = np.ones((J,1))-np.sum(probs)\n",
    "probs = np.concatenate((probs, last_clmn), axis=1)\n",
    "\n",
    "print probs[0,0]*100.0, ' percent chance of being Setosa'\n",
    "print ''\n",
    "print probs[0,1]*100.0, ' percent chance of being Versicolour'\n",
    "print ''\n",
    "print probs[0,2]*100.0, ' percent chance of being Virginica'"
   ]
  },
  {
   "cell_type": "code",
   "execution_count": 109,
   "metadata": {},
   "outputs": [
    {
     "name": "stdout",
     "output_type": "stream",
     "text": [
      "100.0  percent chance of being Versicolour\n",
      "\n",
      "0.0  percent chance of being Virginica\n"
     ]
    }
   ],
   "source": [
    "#d - assuming 0 setosa probability\n",
    "new_probs= []\n",
    "new_probs.append(probs[0,1]/(probs[0,1]+probs[0,2]))\n",
    "new_probs.append(probs[0,2]/(probs[0,1]+probs[0,2]))\n",
    "print new_probs[0]*100.0, ' percent chance of being Versicolour'\n",
    "print ''\n",
    "print new_probs[1]*100.0, ' percent chance of being Virginica'"
   ]
  }
 ],
 "metadata": {
  "kernelspec": {
   "display_name": "Python 3",
   "language": "python",
   "name": "python3"
  },
  "language_info": {
   "codemirror_mode": {
    "name": "ipython",
    "version": 3
   },
   "file_extension": ".py",
   "mimetype": "text/x-python",
   "name": "python",
   "nbconvert_exporter": "python",
   "pygments_lexer": "ipython3",
   "version": "3.6.8"
  }
 },
 "nbformat": 4,
 "nbformat_minor": 2
}
