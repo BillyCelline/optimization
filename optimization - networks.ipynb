{
 "cells": [
  {
   "cell_type": "markdown",
   "metadata": {},
   "source": [
    "\n",
    "\n",
    "$$minimize \\sum_{(i,j)\\in E} c_{ij} x_{ij}$$\n",
    "\n",
    "$$s.t.$$\n",
    "\n",
    "$$\\sum_{k|(j,k)\\in E} x_{jk} - \\sum_{k|(k,j)\\in E} x_{kj} = 0\\ , \\forall j \\in nodes$$\n",
    "\n",
    "$$\\sum_{k|(origin,k)\\in E} x_{origin,k} = 1$$\n",
    "\n",
    "$$\\sum_{k|(k,destination)\\in E} x_{k,destination} = 1$$\n",
    "\n",
    "$$0 \\leq x_{ij} \\leq 1, (i,j) \\in E$$"
   ]
  },
  {
   "cell_type": "code",
   "execution_count": 108,
   "metadata": {},
   "outputs": [
    {
     "name": "stdout",
     "output_type": "stream",
     "text": [
      "Optimization terminated successfully.\n"
     ]
    }
   ],
   "source": [
    "#b\n",
    "\n",
    "import numpy as np, opt111, matplotlib.pyplot as plt\n",
    "\n",
    "c = np.matrix([[0,40,60,50,0,0,0],[40,0,10,0,70,0,0],[60,0,0,20,55,40,0],[50,0,20,0,0,50,0],[70,55,0,0,0,10,60],[0,0,40,50,10,0,80],[0,0,0,0,0,0,0]])\n",
    "u = np.zeros(c.shape)\n",
    "u[c>0] = 1\n",
    "b = np.matrix([1,0,0,0,0,0,-1]).T\n",
    "\n",
    "optimal, flow = opt111.min_cost_flow(c, u, b)"
   ]
  },
  {
   "cell_type": "code",
   "execution_count": 109,
   "metadata": {},
   "outputs": [
    {
     "data": {
      "text/plain": [
       "matrix([[ 0.,  1.,  0.,  0.,  0.,  0.,  0.],\n",
       "        [ 0.,  0.,  1.,  0.,  0.,  0.,  0.],\n",
       "        [ 0.,  0.,  0.,  0.,  0.,  1.,  0.],\n",
       "        [ 0.,  0.,  0.,  0.,  0.,  0.,  0.],\n",
       "        [ 0.,  0.,  0.,  0.,  0.,  0.,  1.],\n",
       "        [ 0.,  0.,  0.,  0.,  1.,  0.,  0.],\n",
       "        [ 0.,  0.,  0.,  0.,  0.,  0.,  0.]])"
      ]
     },
     "execution_count": 109,
     "metadata": {},
     "output_type": "execute_result"
    }
   ],
   "source": [
    "optimal"
   ]
  },
  {
   "cell_type": "code",
   "execution_count": 110,
   "metadata": {},
   "outputs": [
    {
     "data": {
      "text/plain": [
       "160.0"
      ]
     },
     "execution_count": 110,
     "metadata": {},
     "output_type": "execute_result"
    }
   ],
   "source": [
    "flow"
   ]
  },
  {
   "cell_type": "markdown",
   "metadata": {},
   "source": [
    "c)\n",
    "\n",
    "we can adjust our cost function to represent time rather than distance, but we do not have to adjust any of our constraints.\n",
    "\n",
    "therefore, this won't change the solution, and we still end up with the same result as the above."
   ]
  },
  {
   "cell_type": "markdown",
   "metadata": {},
   "source": [
    "d)\n",
    "\n",
    "here, we actually have to switch to a maximum flow problem\n",
    "\n",
    "so we will likely get a different result\n",
    "\n",
    "$$maximize \\sum_{j|(origin,j)\\in E} c_{origin,j}$$\n",
    "\n",
    "$$s.t.$$\n",
    "\n",
    "$$\\sum_{k|(j,k)\\in E} x_{jk} - \\sum_{k|(k,j)\\in E} x_{kj} = 0 , \\forall j \\in nodes$$\n",
    "\n",
    "$$0 \\leq x_{ij} \\leq c_{ij}, (i,j) \\in E$$\n",
    "\n",
    "see below result:"
   ]
  },
  {
   "cell_type": "code",
   "execution_count": 111,
   "metadata": {
    "scrolled": true
   },
   "outputs": [
    {
     "name": "stdout",
     "output_type": "stream",
     "text": [
      "Optimization terminated successfully.\n"
     ]
    }
   ],
   "source": [
    "#d continued\n",
    "\n",
    "import numpy as np, opt111, matplotlib.pyplot as plt\n",
    "\n",
    "u = np.matrix([[0,40,60,50,0,0,0],[0,0,10,0,70,0,0],[0,0,0,20,55,40,0],[0,0,0,0,0,50,0],[0,0,0,0,0,10,60],[0,0,0,0,0,0,80],[np.inf,0,0,0,0,0,0]])\n",
    "c = np.zeros(c.shape)\n",
    "c[6][0] = -1\n",
    "b = np.matrix([0,0,0,0,0,0,0]).T\n",
    "\n",
    "optimal, flow = opt111.min_cost_flow(c,u,b)"
   ]
  },
  {
   "cell_type": "code",
   "execution_count": 112,
   "metadata": {},
   "outputs": [
    {
     "data": {
      "text/plain": [
       "matrix([[   0.,   40.,   60.,   40.,    0.,    0.,    0.],\n",
       "        [   0.,    0.,    0.,    0.,   40.,    0.,    0.],\n",
       "        [   0.,    0.,    0.,    0.,   20.,   40.,    0.],\n",
       "        [   0.,    0.,    0.,    0.,    0.,   40.,    0.],\n",
       "        [   0.,    0.,    0.,    0.,    0.,    0.,   60.],\n",
       "        [   0.,    0.,    0.,    0.,    0.,    0.,   80.],\n",
       "        [ 140.,    0.,    0.,    0.,    0.,    0.,    0.]])"
      ]
     },
     "execution_count": 112,
     "metadata": {},
     "output_type": "execute_result"
    }
   ],
   "source": [
    "optimal"
   ]
  },
  {
   "cell_type": "code",
   "execution_count": 113,
   "metadata": {},
   "outputs": [
    {
     "data": {
      "text/plain": [
       "140.0"
      ]
     },
     "execution_count": 113,
     "metadata": {},
     "output_type": "execute_result"
    }
   ],
   "source": [
    "-flow"
   ]
  },
  {
   "cell_type": "markdown",
   "metadata": {},
   "source": [
    "\n",
    "$$minimize \\sum_{(i,j)\\in E} c_{ij} x_{ij}$$\n",
    "\n",
    "$$s.t.$$\n",
    "\n",
    "$$\\sum_{k|(j,k)\\in E} x_{jk} - \\sum_{k|(k,j)\\in E} x_{kj} = 0 , \\forall j \\in nodes$$\n",
    "\n",
    "$$\\sum_{k|(Source,k)\\in E} x_{Source,k} = 5$$\n",
    "\n",
    "$$\\sum_{k|(k,Sink)\\in E} x_{k,Sink} = 5$$\n",
    "\n",
    "$$0 \\leq x_{ij} \\leq 1, (i,j) \\in E$$\n"
   ]
  },
  {
   "cell_type": "code",
   "execution_count": 2,
   "metadata": {},
   "outputs": [
    {
     "name": "stdout",
     "output_type": "stream",
     "text": [
      "(10, 10)\n",
      "(10, 10)\n",
      "(10, 1)\n",
      "Optimization terminated successfully.\n"
     ]
    }
   ],
   "source": [
    "import numpy as np, new_opt111, matplotlib.pyplot as plt\n",
    "\n",
    "cx = np.matrix([[37.7,32.9,33.8,37.0,35.4],[43.4,33.1,42.2,34.7,41.8],[33.3,28.5,38.9,30.4,33.6],[29.2,26.4,29.6,28.5,31.1],[0,0,0,0,0]])\n",
    "ux = np.ones(cx.shape)\n",
    "\n",
    "b = np.matrix([1,1,1,1,1,-1,-1,-1,-1,-1]).T\n",
    "Z = np.zeros((5,5))\n",
    "c = np.bmat([[Z, cx], [Z, Z]])\n",
    "u = np.bmat([[Z, ux], [Z, Z]])\n",
    "print c.shape\n",
    "print u.shape\n",
    "print b.shape\n",
    "optimal, flow = new_opt111.min_cost_flow(c, u, b)"
   ]
  },
  {
   "cell_type": "code",
   "execution_count": 115,
   "metadata": {},
   "outputs": [
    {
     "data": {
      "text/plain": [
       "matrix([[ 0.,  0.,  0.,  0.,  0.,  0.,  0.,  1.,  0.,  0.],\n",
       "        [ 0.,  0.,  0.,  0.,  0.,  0.,  0.,  0.,  1.,  0.],\n",
       "        [ 0.,  0.,  0.,  0.,  0.,  0.,  1.,  0.,  0.,  0.],\n",
       "        [ 0.,  0.,  0.,  0.,  0.,  1.,  0.,  0.,  0.,  0.],\n",
       "        [ 0.,  0.,  0.,  0.,  0.,  0.,  0.,  0.,  0.,  1.],\n",
       "        [ 0.,  0.,  0.,  0.,  0.,  0.,  0.,  0.,  0.,  0.],\n",
       "        [ 0.,  0.,  0.,  0.,  0.,  0.,  0.,  0.,  0.,  0.],\n",
       "        [ 0.,  0.,  0.,  0.,  0.,  0.,  0.,  0.,  0.,  0.],\n",
       "        [ 0.,  0.,  0.,  0.,  0.,  0.,  0.,  0.,  0.,  0.],\n",
       "        [ 0.,  0.,  0.,  0.,  0.,  0.,  0.,  0.,  0.,  0.]])"
      ]
     },
     "execution_count": 115,
     "metadata": {},
     "output_type": "execute_result"
    }
   ],
   "source": [
    "optimal"
   ]
  },
  {
   "cell_type": "code",
   "execution_count": 116,
   "metadata": {},
   "outputs": [
    {
     "data": {
      "text/plain": [
       "126.19999999999999"
      ]
     },
     "execution_count": 116,
     "metadata": {},
     "output_type": "execute_result"
    }
   ],
   "source": [
    "flow"
   ]
  },
  {
   "cell_type": "markdown",
   "metadata": {},
   "source": [
    "a)\n",
    "\n",
    "$$minimize \\sum_{i=1}^{n}\\sum_{j=1}^{n} c_{ij} x_{ij}$$\n",
    "\n",
    "$$s.t.$$\n",
    "\n",
    "$$\\sum_{k|(j,k)\\in E} x_{jk} - \\sum_{k|(k,j)\\in E} x_{kj} = 0 , \\forall j \\in nodes$$\n",
    "\n",
    "$$\\sum_{k|(origin,k)\\in E} x_{origin,k} = n$$\n",
    "\n",
    "$$\\sum_{k|(k,destination)\\in E} x_{k,destination} = n$$\n",
    "\n",
    "$$0 \\leq x_{ij} \\leq 1, (i,j) \\in E$$"
   ]
  },
  {
   "cell_type": "markdown",
   "metadata": {},
   "source": [
    "b)\n",
    "\n",
    "Yes, we know that the solution will be an integer solution, because each edge (i,j) is also integral, and thus: \n",
    "\n",
    "$$m^{j}_{i}\\ and\\ w^{i}_{j}\\ will\\ also\\ be\\ integers$$\n",
    "\n",
    "Since c is just m * w, then we know that c will be an integer as well"
   ]
  },
  {
   "cell_type": "code",
   "execution_count": 117,
   "metadata": {},
   "outputs": [
    {
     "name": "stdout",
     "output_type": "stream",
     "text": [
      "Optimization terminated successfully.\n"
     ]
    }
   ],
   "source": [
    "#c\n",
    "\n",
    "import numpy as np, new_opt111, matplotlib.pyplot as plt\n",
    "from rankings import women_rankings, men_rankings\n",
    "\n",
    "cx = np.multiply(women_rankings, men_rankings.T)\n",
    "ux = np.ones(cx.shape)\n",
    "\n",
    "b = np.matrix([1,1,1,1,1,1,-1,-1,-1,-1,-1,-1]).T\n",
    "Z = np.zeros((6,6))\n",
    "c = np.bmat([[Z, cx], [Z, Z]])\n",
    "u = np.bmat([[Z, ux], [Z, Z]])\n",
    "\n",
    "optimal, flow = new_opt111.min_cost_flow(c, u, b)"
   ]
  },
  {
   "cell_type": "code",
   "execution_count": 118,
   "metadata": {},
   "outputs": [
    {
     "data": {
      "text/plain": [
       "matrix([[ 0.,  0.,  0.,  0.,  0.,  0.,  0.,  1.,  0.,  0.,  0.,  0.],\n",
       "        [ 0.,  0.,  0.,  0.,  0.,  0.,  0.,  0.,  0.,  0.,  0.,  1.],\n",
       "        [ 0.,  0.,  0.,  0.,  0.,  0.,  0.,  0.,  0.,  1.,  0.,  0.],\n",
       "        [ 0.,  0.,  0.,  0.,  0.,  0.,  0.,  0.,  1.,  0.,  0.,  0.],\n",
       "        [ 0.,  0.,  0.,  0.,  0.,  0.,  1.,  0.,  0.,  0.,  0.,  0.],\n",
       "        [ 0.,  0.,  0.,  0.,  0.,  0.,  0.,  0.,  0.,  0.,  1.,  0.],\n",
       "        [ 0.,  0.,  0.,  0.,  0.,  0.,  0.,  0.,  0.,  0.,  0.,  0.],\n",
       "        [ 0.,  0.,  0.,  0.,  0.,  0.,  0.,  0.,  0.,  0.,  0.,  0.],\n",
       "        [ 0.,  0.,  0.,  0.,  0.,  0.,  0.,  0.,  0.,  0.,  0.,  0.],\n",
       "        [ 0.,  0.,  0.,  0.,  0.,  0.,  0.,  0.,  0.,  0.,  0.,  0.],\n",
       "        [ 0.,  0.,  0.,  0.,  0.,  0.,  0.,  0.,  0.,  0.,  0.,  0.],\n",
       "        [ 0.,  0.,  0.,  0.,  0.,  0.,  0.,  0.,  0.,  0.,  0.,  0.]])"
      ]
     },
     "execution_count": 118,
     "metadata": {},
     "output_type": "execute_result"
    }
   ],
   "source": [
    "optimal"
   ]
  },
  {
   "cell_type": "code",
   "execution_count": 119,
   "metadata": {},
   "outputs": [
    {
     "data": {
      "text/plain": [
       "24.0"
      ]
     },
     "execution_count": 119,
     "metadata": {},
     "output_type": "execute_result"
    }
   ],
   "source": [
    "flow"
   ]
  },
  {
   "cell_type": "markdown",
   "metadata": {},
   "source": [
    "d)\n",
    "\n",
    "product matching isn't stable. \n",
    "\n",
    "man 5 is matched to 6 but should be matched to 1.\n",
    "\n",
    "woman 1 is matched to 6 but should be matched to 5."
   ]
  },
  {
   "cell_type": "code",
   "execution_count": null,
   "metadata": {
    "collapsed": true
   },
   "outputs": [],
   "source": []
  }
 ],
 "metadata": {
  "kernelspec": {
   "display_name": "Python 3",
   "language": "python",
   "name": "python3"
  },
  "language_info": {
   "codemirror_mode": {
    "name": "ipython",
    "version": 3
   },
   "file_extension": ".py",
   "mimetype": "text/x-python",
   "name": "python",
   "nbconvert_exporter": "python",
   "pygments_lexer": "ipython3",
   "version": "3.6.8"
  }
 },
 "nbformat": 4,
 "nbformat_minor": 2
}
